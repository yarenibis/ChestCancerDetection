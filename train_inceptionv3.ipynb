{
 "cells": [
  {
   "cell_type": "code",
   "id": "initial_id",
   "metadata": {
    "collapsed": true,
    "ExecuteTime": {
     "end_time": "2025-05-14T07:44:15.762937Z",
     "start_time": "2025-05-14T07:44:11.488445Z"
    }
   },
   "source": [
    "import numpy as np\n",
    "import os\n",
    "\n",
    "from keras.src.utils.module_utils import tensorflow\n",
    "from tensorflow.keras.preprocessing.image import ImageDataGenerator\n",
    "from tensorflow.keras.optimizers import Adam\n",
    "from tensorflow.keras.callbacks import EarlyStopping, ModelCheckpoint, ReduceLROnPlateau\n",
    "from tensorflow.keras.applications.inception_v3 import preprocess_input\n",
    "from tensorflow.keras.models import Sequential, load_model\n",
    "from tensorflow.keras.layers import Conv2D,BatchNormalization, Dense, MaxPooling2D, Dropout, Flatten,GlobalAveragePooling2D\n",
    "\n",
    "from matplotlib.image import imread\n",
    "import matplotlib.pyplot as plt\n",
    "import random"
   ],
   "outputs": [],
   "execution_count": 1
  },
  {
   "metadata": {
    "ExecuteTime": {
     "end_time": "2025-05-14T07:44:17.969208Z",
     "start_time": "2025-05-14T07:44:17.959431Z"
    }
   },
   "cell_type": "code",
   "source": [
    "# File Directory for both the train and test\n",
    "train_path = \"C:\\\\Users\\\\yaren\\\\PycharmProjects\\\\ResNet50-ChestCancer-Detection\\\\Data\\\\train\"\n",
    "val_path = \"C:\\\\Users\\\\yaren\\\\PycharmProjects\\\\ResNet50-ChestCancer-Detection\\\\Data\\\\valid\"\n",
    "test_path = \"C:\\\\Users\\\\yaren\\\\PycharmProjects\\\\ResNet50-ChestCancer-Detection\\\\Data\\\\test\""
   ],
   "id": "ed69544d198695c7",
   "outputs": [],
   "execution_count": 2
  },
  {
   "metadata": {
    "ExecuteTime": {
     "end_time": "2025-05-14T07:44:19.548635Z",
     "start_time": "2025-05-14T07:44:19.526818Z"
    }
   },
   "cell_type": "code",
   "source": [
    "INPUT_SHAPE = (299, 299, 3)\n",
    "NUM_CLASSES = 4\n",
    "\n",
    "train_datagen = ImageDataGenerator(rotation_range=10,\n",
    "                                   width_shift_range=0.2,\n",
    "                                   height_shift_range= 0.2,\n",
    "                                   shear_range=0.2,\n",
    "                                   zoom_range=0.2,\n",
    "                                   horizontal_flip=True,\n",
    "                                   vertical_flip=False,\n",
    "                                   preprocessing_function=preprocess_input,\n",
    "                                   dtype=\"float32\")\n",
    "\n",
    "\n",
    "test_datagen = ImageDataGenerator(preprocessing_function=preprocess_input,\n",
    "                                 dtype=\"float32\")\n",
    "\n",
    "val_datagen = ImageDataGenerator(preprocessing_function=preprocess_input,\n",
    "                                 dtype=\"float32\")"
   ],
   "id": "7a3f98b444644081",
   "outputs": [],
   "execution_count": 3
  },
  {
   "metadata": {
    "ExecuteTime": {
     "end_time": "2025-05-14T07:44:22.516115Z",
     "start_time": "2025-05-14T07:44:22.337296Z"
    }
   },
   "cell_type": "code",
   "source": [
    "train_data = train_datagen.flow_from_directory(train_path,\n",
    "                                                 target_size=(299, 299),\n",
    "                                                 batch_size=32,\n",
    "                                                 class_mode=\"categorical\")\n",
    "test_data = test_datagen.flow_from_directory(test_path,\n",
    "                                            target_size=(299, 299),\n",
    "                                            batch_size=32,\n",
    "                                            class_mode=\"categorical\")\n",
    "val_data = val_datagen.flow_from_directory(val_path,\n",
    "                                          target_size=(299, 299),\n",
    "                                          batch_size=32,\n",
    "                                          class_mode=\"categorical\")"
   ],
   "id": "5666003bcfe8c0ad",
   "outputs": [
    {
     "name": "stdout",
     "output_type": "stream",
     "text": [
      "Found 613 images belonging to 4 classes.\n",
      "Found 315 images belonging to 4 classes.\n",
      "Found 72 images belonging to 4 classes.\n"
     ]
    }
   ],
   "execution_count": 4
  },
  {
   "metadata": {
    "ExecuteTime": {
     "end_time": "2025-05-14T07:44:29.745290Z",
     "start_time": "2025-05-14T07:44:27.459674Z"
    }
   },
   "cell_type": "code",
   "source": [
    "from inceptionv3 import InceptionV3\n",
    "from tensorflow.keras.layers import GlobalAveragePooling2D, Dense\n",
    "from tensorflow.keras.models import Model\n",
    "from tensorflow.keras.optimizers import Adam\n",
    "\n",
    "# Base model: InceptionV3 (ImageNet ağırlıklı)\n",
    "base_model = InceptionV3(\n",
    "    include_top=False,\n",
    "    weights='imagenet',\n",
    "    input_shape=(299, 299, 3)  # 🔥 InceptionV3 için doğru giriş boyutu\n",
    ")\n",
    "\n",
    "# 🔒 Katmanları dondur (son birkaç katman hariç)\n",
    "for layer in base_model.layers[:-30]:  # sadece son 30 katmanı aç\n",
    "    layer.trainable = False\n",
    "for layer in base_model.layers[-30:]:\n",
    "    layer.trainable = True\n",
    "\n",
    "# 🔧 Yeni sınıflandırıcı katmanlar\n",
    "x = base_model.output\n",
    "x = GlobalAveragePooling2D()(x)\n",
    "x = Dense(1024, activation='relu')(x)  # opsiyonel ek katman\n",
    "x = Dense(4, activation='softmax')(x)  # 4 sınıf için çıktı\n",
    "\n",
    "# 🔄 Modeli oluştur\n",
    "model = Model(inputs=base_model.input, outputs=x)\n",
    "\n",
    "# ⚙️ Derle\n",
    "model.compile(\n",
    "    optimizer=Adam(learning_rate=0.0001),\n",
    "    loss='categorical_crossentropy',\n",
    "    metrics=['accuracy']\n",
    ")\n"
   ],
   "id": "2c53647da7235e67",
   "outputs": [],
   "execution_count": 5
  },
  {
   "metadata": {
    "ExecuteTime": {
     "end_time": "2025-05-13T21:33:15.292997Z",
     "start_time": "2025-05-13T21:07:25.104228Z"
    }
   },
   "cell_type": "code",
   "source": [
    "checkpoint = ModelCheckpoint(\"best_inception_model.keras\", monitor='val_accuracy', save_best_only=True, verbose=1)\n",
    "early_stop = EarlyStopping(monitor='val_accuracy', patience=10, restore_best_weights=True, verbose=1)\n",
    "reduce_lr = ReduceLROnPlateau(monitor='val_accuracy', patience=5, factor=0.5, verbose=1)\n",
    "\n",
    "history = model.fit(\n",
    "    train_data,\n",
    "    validation_data=val_data,\n",
    "    epochs=30,\n",
    "    callbacks=[checkpoint, early_stop, reduce_lr],\n",
    "    verbose=2\n",
    ")"
   ],
   "id": "dde67ce69cb4f6fb",
   "outputs": [
    {
     "name": "stderr",
     "output_type": "stream",
     "text": [
      "C:\\Users\\yaren\\PycharmProjects\\ResNet50-ChestCancer-Detection\\.venv\\lib\\site-packages\\keras\\src\\trainers\\data_adapters\\py_dataset_adapter.py:121: UserWarning: Your `PyDataset` class should call `super().__init__(**kwargs)` in its constructor. `**kwargs` can include `workers`, `use_multiprocessing`, `max_queue_size`. Do not pass these arguments to `fit()`, as they will be ignored.\n",
      "  self._warn_if_super_not_called()\n"
     ]
    },
    {
     "name": "stdout",
     "output_type": "stream",
     "text": [
      "Epoch 1/30\n",
      "\n",
      "Epoch 1: val_accuracy improved from -inf to 0.58333, saving model to best_inception_model.keras\n",
      "20/20 - 54s - 3s/step - accuracy: 0.5334 - loss: 1.0298 - val_accuracy: 0.5833 - val_loss: 0.9382 - learning_rate: 1.0000e-04\n",
      "Epoch 2/30\n",
      "\n",
      "Epoch 2: val_accuracy improved from 0.58333 to 0.62500, saving model to best_inception_model.keras\n",
      "20/20 - 79s - 4s/step - accuracy: 0.7162 - loss: 0.7022 - val_accuracy: 0.6250 - val_loss: 0.7988 - learning_rate: 1.0000e-04\n",
      "Epoch 3/30\n",
      "\n",
      "Epoch 3: val_accuracy improved from 0.62500 to 0.68056, saving model to best_inception_model.keras\n",
      "20/20 - 51s - 3s/step - accuracy: 0.7537 - loss: 0.5826 - val_accuracy: 0.6806 - val_loss: 0.7101 - learning_rate: 1.0000e-04\n",
      "Epoch 4/30\n",
      "\n",
      "Epoch 4: val_accuracy improved from 0.68056 to 0.69444, saving model to best_inception_model.keras\n",
      "20/20 - 51s - 3s/step - accuracy: 0.8320 - loss: 0.4813 - val_accuracy: 0.6944 - val_loss: 0.7477 - learning_rate: 1.0000e-04\n",
      "Epoch 5/30\n",
      "\n",
      "Epoch 5: val_accuracy did not improve from 0.69444\n",
      "20/20 - 50s - 2s/step - accuracy: 0.8744 - loss: 0.3761 - val_accuracy: 0.6806 - val_loss: 0.8175 - learning_rate: 1.0000e-04\n",
      "Epoch 6/30\n",
      "\n",
      "Epoch 6: val_accuracy improved from 0.69444 to 0.70833, saving model to best_inception_model.keras\n",
      "20/20 - 54s - 3s/step - accuracy: 0.9005 - loss: 0.3009 - val_accuracy: 0.7083 - val_loss: 0.8534 - learning_rate: 1.0000e-04\n",
      "Epoch 7/30\n",
      "\n",
      "Epoch 7: val_accuracy improved from 0.70833 to 0.75000, saving model to best_inception_model.keras\n",
      "20/20 - 52s - 3s/step - accuracy: 0.8956 - loss: 0.2902 - val_accuracy: 0.7500 - val_loss: 0.7772 - learning_rate: 1.0000e-04\n",
      "Epoch 8/30\n",
      "\n",
      "Epoch 8: val_accuracy improved from 0.75000 to 0.80556, saving model to best_inception_model.keras\n",
      "20/20 - 51s - 3s/step - accuracy: 0.9054 - loss: 0.2646 - val_accuracy: 0.8056 - val_loss: 0.5825 - learning_rate: 1.0000e-04\n",
      "Epoch 9/30\n",
      "\n",
      "Epoch 9: val_accuracy improved from 0.80556 to 0.81944, saving model to best_inception_model.keras\n",
      "20/20 - 50s - 3s/step - accuracy: 0.9347 - loss: 0.2022 - val_accuracy: 0.8194 - val_loss: 0.5728 - learning_rate: 1.0000e-04\n",
      "Epoch 10/30\n",
      "\n",
      "Epoch 10: val_accuracy improved from 0.81944 to 0.88889, saving model to best_inception_model.keras\n",
      "20/20 - 52s - 3s/step - accuracy: 0.9380 - loss: 0.1986 - val_accuracy: 0.8889 - val_loss: 0.4342 - learning_rate: 1.0000e-04\n",
      "Epoch 11/30\n",
      "\n",
      "Epoch 11: val_accuracy improved from 0.88889 to 0.90278, saving model to best_inception_model.keras\n",
      "20/20 - 52s - 3s/step - accuracy: 0.9478 - loss: 0.1633 - val_accuracy: 0.9028 - val_loss: 0.4223 - learning_rate: 1.0000e-04\n",
      "Epoch 12/30\n",
      "\n",
      "Epoch 12: val_accuracy improved from 0.90278 to 0.91667, saving model to best_inception_model.keras\n",
      "20/20 - 51s - 3s/step - accuracy: 0.9429 - loss: 0.1559 - val_accuracy: 0.9167 - val_loss: 0.3862 - learning_rate: 1.0000e-04\n",
      "Epoch 13/30\n",
      "\n",
      "Epoch 13: val_accuracy did not improve from 0.91667\n",
      "20/20 - 49s - 2s/step - accuracy: 0.9543 - loss: 0.1269 - val_accuracy: 0.9167 - val_loss: 0.4140 - learning_rate: 1.0000e-04\n",
      "Epoch 14/30\n",
      "\n",
      "Epoch 14: val_accuracy did not improve from 0.91667\n",
      "20/20 - 50s - 3s/step - accuracy: 0.9674 - loss: 0.1002 - val_accuracy: 0.8333 - val_loss: 0.5951 - learning_rate: 1.0000e-04\n",
      "Epoch 15/30\n",
      "\n",
      "Epoch 15: val_accuracy improved from 0.91667 to 0.93056, saving model to best_inception_model.keras\n",
      "20/20 - 51s - 3s/step - accuracy: 0.9527 - loss: 0.1293 - val_accuracy: 0.9306 - val_loss: 0.4256 - learning_rate: 1.0000e-04\n",
      "Epoch 16/30\n",
      "\n",
      "Epoch 16: val_accuracy did not improve from 0.93056\n",
      "20/20 - 50s - 2s/step - accuracy: 0.9576 - loss: 0.1216 - val_accuracy: 0.8750 - val_loss: 0.4950 - learning_rate: 1.0000e-04\n",
      "Epoch 17/30\n",
      "\n",
      "Epoch 17: val_accuracy did not improve from 0.93056\n",
      "20/20 - 49s - 2s/step - accuracy: 0.9772 - loss: 0.0809 - val_accuracy: 0.9028 - val_loss: 0.4634 - learning_rate: 1.0000e-04\n",
      "Epoch 18/30\n",
      "\n",
      "Epoch 18: val_accuracy did not improve from 0.93056\n",
      "20/20 - 49s - 2s/step - accuracy: 0.9723 - loss: 0.0941 - val_accuracy: 0.9167 - val_loss: 0.5272 - learning_rate: 1.0000e-04\n",
      "Epoch 19/30\n",
      "\n",
      "Epoch 19: val_accuracy did not improve from 0.93056\n",
      "20/20 - 51s - 3s/step - accuracy: 0.9755 - loss: 0.0699 - val_accuracy: 0.8056 - val_loss: 0.7591 - learning_rate: 1.0000e-04\n",
      "Epoch 20/30\n",
      "\n",
      "Epoch 20: val_accuracy did not improve from 0.93056\n",
      "\n",
      "Epoch 20: ReduceLROnPlateau reducing learning rate to 4.999999873689376e-05.\n",
      "20/20 - 50s - 3s/step - accuracy: 0.9641 - loss: 0.0988 - val_accuracy: 0.9167 - val_loss: 0.4870 - learning_rate: 1.0000e-04\n",
      "Epoch 21/30\n",
      "\n",
      "Epoch 21: val_accuracy did not improve from 0.93056\n",
      "20/20 - 50s - 2s/step - accuracy: 0.9755 - loss: 0.0822 - val_accuracy: 0.8472 - val_loss: 0.5129 - learning_rate: 5.0000e-05\n",
      "Epoch 22/30\n",
      "\n",
      "Epoch 22: val_accuracy did not improve from 0.93056\n",
      "20/20 - 49s - 2s/step - accuracy: 0.9608 - loss: 0.1005 - val_accuracy: 0.9028 - val_loss: 0.5598 - learning_rate: 5.0000e-05\n",
      "Epoch 23/30\n",
      "\n",
      "Epoch 23: val_accuracy did not improve from 0.93056\n",
      "20/20 - 50s - 3s/step - accuracy: 0.9674 - loss: 0.1002 - val_accuracy: 0.9306 - val_loss: 0.4998 - learning_rate: 5.0000e-05\n",
      "Epoch 24/30\n",
      "\n",
      "Epoch 24: val_accuracy did not improve from 0.93056\n",
      "20/20 - 50s - 3s/step - accuracy: 0.9886 - loss: 0.0442 - val_accuracy: 0.9306 - val_loss: 0.4651 - learning_rate: 5.0000e-05\n",
      "Epoch 25/30\n",
      "\n",
      "Epoch 25: val_accuracy improved from 0.93056 to 0.94444, saving model to best_inception_model.keras\n",
      "20/20 - 53s - 3s/step - accuracy: 0.9869 - loss: 0.0579 - val_accuracy: 0.9444 - val_loss: 0.4535 - learning_rate: 5.0000e-05\n",
      "Epoch 26/30\n",
      "\n",
      "Epoch 26: val_accuracy did not improve from 0.94444\n",
      "20/20 - 49s - 2s/step - accuracy: 0.9902 - loss: 0.0550 - val_accuracy: 0.9167 - val_loss: 0.5151 - learning_rate: 5.0000e-05\n",
      "Epoch 27/30\n",
      "\n",
      "Epoch 27: val_accuracy did not improve from 0.94444\n",
      "20/20 - 51s - 3s/step - accuracy: 0.9821 - loss: 0.0553 - val_accuracy: 0.9444 - val_loss: 0.4654 - learning_rate: 5.0000e-05\n",
      "Epoch 28/30\n",
      "\n",
      "Epoch 28: val_accuracy did not improve from 0.94444\n",
      "20/20 - 50s - 2s/step - accuracy: 0.9918 - loss: 0.0313 - val_accuracy: 0.9444 - val_loss: 0.4560 - learning_rate: 5.0000e-05\n",
      "Epoch 29/30\n",
      "\n",
      "Epoch 29: val_accuracy improved from 0.94444 to 0.95833, saving model to best_inception_model.keras\n",
      "20/20 - 51s - 3s/step - accuracy: 0.9902 - loss: 0.0356 - val_accuracy: 0.9583 - val_loss: 0.4312 - learning_rate: 5.0000e-05\n",
      "Epoch 30/30\n",
      "\n",
      "Epoch 30: val_accuracy did not improve from 0.95833\n",
      "20/20 - 50s - 2s/step - accuracy: 0.9869 - loss: 0.0516 - val_accuracy: 0.9444 - val_loss: 0.4321 - learning_rate: 5.0000e-05\n",
      "Restoring model weights from the end of the best epoch: 29.\n"
     ]
    }
   ],
   "execution_count": 15
  },
  {
   "metadata": {
    "ExecuteTime": {
     "end_time": "2025-05-13T21:34:26.673002Z",
     "start_time": "2025-05-13T21:34:06.900365Z"
    }
   },
   "cell_type": "code",
   "source": [
    "from tensorflow.keras.models import load_model\n",
    "saved_model = load_model(\"best_inception_model.keras\")\n",
    "score = saved_model.evaluate(test_data, verbose=1)\n",
    "\n",
    "print(\"Test loss:\", score[0])\n",
    "print(\"Test accuracy:\", score[1])"
   ],
   "id": "1cfd82681d5bf595",
   "outputs": [
    {
     "name": "stdout",
     "output_type": "stream",
     "text": [
      "\u001B[1m10/10\u001B[0m \u001B[32m━━━━━━━━━━━━━━━━━━━━\u001B[0m\u001B[37m\u001B[0m \u001B[1m18s\u001B[0m 1s/step - accuracy: 0.8599 - loss: 0.4460\n",
      "Test loss: 0.3993781507015228\n",
      "Test accuracy: 0.8730158805847168\n"
     ]
    }
   ],
   "execution_count": 16
  },
  {
   "metadata": {
    "ExecuteTime": {
     "end_time": "2025-05-13T21:34:47.323571Z",
     "start_time": "2025-05-13T21:34:43.895833Z"
    }
   },
   "cell_type": "code",
   "source": [
    "val_loss, val_acc = saved_model.evaluate(val_data, verbose=1)\n",
    "print(\"\\n📊 VALIDATION SET:\")\n",
    "print(f\"✅ Accuracy: {val_acc:.4f}\")\n",
    "print(f\"❌ Loss:     {val_loss:.4f}\")"
   ],
   "id": "3b333c71e6e12a13",
   "outputs": [
    {
     "name": "stdout",
     "output_type": "stream",
     "text": [
      "\u001B[1m3/3\u001B[0m \u001B[32m━━━━━━━━━━━━━━━━━━━━\u001B[0m\u001B[37m\u001B[0m \u001B[1m3s\u001B[0m 781ms/step - accuracy: 0.9518 - loss: 0.5122\n",
      "\n",
      "📊 VALIDATION SET:\n",
      "✅ Accuracy: 0.9583\n",
      "❌ Loss:     0.4312\n"
     ]
    }
   ],
   "execution_count": 17
  },
  {
   "metadata": {
    "ExecuteTime": {
     "end_time": "2025-05-13T21:35:37.400940Z",
     "start_time": "2025-05-13T21:35:02.379750Z"
    }
   },
   "cell_type": "code",
   "source": [
    "train_loss, train_acc = saved_model.evaluate(train_data, verbose=1)\n",
    "print(\"\\n📊 TRAIN SET:\")\n",
    "print(f\"✅ Accuracy: {train_acc:.4f}\")\n",
    "print(f\"❌ Loss:     {train_loss:.4f}\")"
   ],
   "id": "c28f4efe2f9ff0a9",
   "outputs": [
    {
     "name": "stdout",
     "output_type": "stream",
     "text": [
      "\u001B[1m20/20\u001B[0m \u001B[32m━━━━━━━━━━━━━━━━━━━━\u001B[0m\u001B[37m\u001B[0m \u001B[1m33s\u001B[0m 2s/step - accuracy: 0.9970 - loss: 0.0235\n",
      "\n",
      "📊 TRAIN SET:\n",
      "✅ Accuracy: 0.9935\n",
      "❌ Loss:     0.0317\n"
     ]
    }
   ],
   "execution_count": 18
  },
  {
   "metadata": {
    "ExecuteTime": {
     "end_time": "2025-05-14T07:45:45.986260Z",
     "start_time": "2025-05-14T07:45:23.117454Z"
    }
   },
   "cell_type": "code",
   "source": [
    "import numpy as np\n",
    "import matplotlib.pyplot as plt\n",
    "from sklearn.metrics import confusion_matrix, ConfusionMatrixDisplay, classification_report\n",
    "\n",
    "# 🔄 Sınıf adlarını al\n",
    "class_names = list(test_data.class_indices.keys())\n",
    "\n",
    "# 🔍 Gerçek etiketleri ve tahminleri topla\n",
    "y_true = []\n",
    "y_pred = []\n",
    "\n",
    "# ⚠️ test_data.shuffle = False olmalı doğru sıralama için\n",
    "test_data.reset()  # Sıfırlanmazsa karışık olabilir\n",
    "\n",
    "for i in range(len(test_data)):\n",
    "    x_batch, y_batch = test_data[i]\n",
    "    y_true.extend(np.argmax(y_batch, axis=1))\n",
    "    preds = saved_model.predict(x_batch)\n",
    "    y_pred.extend(np.argmax(preds, axis=1))\n",
    "\n",
    "    # 🛑 Son batch incomplete olabilir\n",
    "    if (i + 1) * test_data.batch_size >= test_data.samples:\n",
    "        break\n",
    "\n",
    "# 🧮 Confusion Matrix\n",
    "cm = confusion_matrix(y_true, y_pred)\n",
    "disp = ConfusionMatrixDisplay(confusion_matrix=cm, display_labels=class_names)\n",
    "\n",
    "# 🎨 Görselleştir\n",
    "plt.figure(figsize=(8, 6))\n",
    "disp.plot(cmap=plt.cm.Blues, values_format='d')\n",
    "plt.title(\"Confusion Matrix (Test Set)\")\n",
    "plt.xlabel(\"Predicted Label\")\n",
    "plt.ylabel(\"True Label\")\n",
    "plt.show()\n",
    "\n",
    "# 🧾 Ekstra: classification report\n",
    "print(\"\\n📄 Classification Report:\")\n",
    "print(classification_report(y_true, y_pred, target_names=class_names))\n"
   ],
   "id": "6696db9444bc4e98",
   "outputs": [
    {
     "name": "stdout",
     "output_type": "stream",
     "text": [
      "\u001B[1m1/1\u001B[0m \u001B[32m━━━━━━━━━━━━━━━━━━━━\u001B[0m\u001B[37m\u001B[0m \u001B[1m4s\u001B[0m 4s/step\n",
      "\u001B[1m1/1\u001B[0m \u001B[32m━━━━━━━━━━━━━━━━━━━━\u001B[0m\u001B[37m\u001B[0m \u001B[1m1s\u001B[0m 1s/step\n",
      "\u001B[1m1/1\u001B[0m \u001B[32m━━━━━━━━━━━━━━━━━━━━\u001B[0m\u001B[37m\u001B[0m \u001B[1m1s\u001B[0m 1s/step\n",
      "\u001B[1m1/1\u001B[0m \u001B[32m━━━━━━━━━━━━━━━━━━━━\u001B[0m\u001B[37m\u001B[0m \u001B[1m1s\u001B[0m 1s/step\n",
      "\u001B[1m1/1\u001B[0m \u001B[32m━━━━━━━━━━━━━━━━━━━━\u001B[0m\u001B[37m\u001B[0m \u001B[1m1s\u001B[0m 1s/step\n",
      "\u001B[1m1/1\u001B[0m \u001B[32m━━━━━━━━━━━━━━━━━━━━\u001B[0m\u001B[37m\u001B[0m \u001B[1m2s\u001B[0m 2s/step\n",
      "\u001B[1m1/1\u001B[0m \u001B[32m━━━━━━━━━━━━━━━━━━━━\u001B[0m\u001B[37m\u001B[0m \u001B[1m2s\u001B[0m 2s/step\n",
      "\u001B[1m1/1\u001B[0m \u001B[32m━━━━━━━━━━━━━━━━━━━━\u001B[0m\u001B[37m\u001B[0m \u001B[1m2s\u001B[0m 2s/step\n",
      "\u001B[1m1/1\u001B[0m \u001B[32m━━━━━━━━━━━━━━━━━━━━\u001B[0m\u001B[37m\u001B[0m \u001B[1m2s\u001B[0m 2s/step\n",
      "\u001B[1m1/1\u001B[0m \u001B[32m━━━━━━━━━━━━━━━━━━━━\u001B[0m\u001B[37m\u001B[0m \u001B[1m4s\u001B[0m 4s/step\n"
     ]
    },
    {
     "data": {
      "text/plain": [
       "<Figure size 800x600 with 0 Axes>"
      ]
     },
     "metadata": {},
     "output_type": "display_data"
    },
    {
     "data": {
      "text/plain": [
       "<Figure size 640x480 with 2 Axes>"
      ],
      "image/png": "[encoded data removed]"
     },
     "metadata": {},
     "output_type": "display_data"
    },
    {
     "name": "stdout",
     "output_type": "stream",
     "text": [
      "\n",
      "📄 Classification Report:\n",
      "                         precision    recall  f1-score   support\n",
      "\n",
      "         adenocarcinoma       0.91      0.81      0.85       120\n",
      "   large.cell.carcinoma       0.72      0.86      0.79        51\n",
      "                 normal       0.96      0.98      0.97        54\n",
      "squamous.cell.carcinoma       0.88      0.90      0.89        90\n",
      "\n",
      "               accuracy                           0.87       315\n",
      "              macro avg       0.87      0.89      0.88       315\n",
      "           weighted avg       0.88      0.87      0.87       315\n",
      "\n"
     ]
    }
   ],
   "execution_count": 7
  }
 ],
 "metadata": {
  "kernelspec": {
   "display_name": "Python 3",
   "language": "python",
   "name": "python3"
  },
  "language_info": {
   "codemirror_mode": {
    "name": "ipython",
    "version": 2
   },
   "file_extension": ".py",
   "mimetype": "text/x-python",
   "name": "python",
   "nbconvert_exporter": "python",
   "pygments_lexer": "ipython2",
   "version": "2.7.6"
  }
 },
 "nbformat": 4,
 "nbformat_minor": 5
}
