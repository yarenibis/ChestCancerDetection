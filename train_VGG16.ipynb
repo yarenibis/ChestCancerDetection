{
 "cells": [
  {
   "cell_type": "code",
   "id": "initial_id",
   "metadata": {
    "collapsed": true,
    "ExecuteTime": {
     "end_time": "2025-05-14T07:53:17.188074Z",
     "start_time": "2025-05-14T07:53:14.599474Z"
    }
   },
   "source": [
    "from keras.src.utils.module_utils import tensorflow\n",
    "from tensorflow.keras.preprocessing.image import ImageDataGenerator\n",
    "from tensorflow.keras.optimizers import Adam\n",
    "from tensorflow.keras.callbacks import EarlyStopping, ModelCheckpoint, ReduceLROnPlateau\n",
    "from tensorflow.keras.applications.mobilenet_v2 import preprocess_input\n",
    "from tensorflow.keras.models import Sequential, load_model\n",
    "from tensorflow.keras.layers import Conv2D,BatchNormalization, Dense, MaxPooling2D, Dropout, Flatten,GlobalAveragePooling2D\n",
    "from tensorflow.keras.optimizers import SGD\n",
    "from VGG16 import VGG16  # senin yukarıdaki model dosyan\n"
   ],
   "outputs": [],
   "execution_count": 1
  },
  {
   "metadata": {
    "ExecuteTime": {
     "end_time": "2025-05-14T07:53:19.087755Z",
     "start_time": "2025-05-14T07:53:19.077968Z"
    }
   },
   "cell_type": "code",
   "source": [
    "# File Directory for both the train and test\n",
    "train_path = \"C:\\\\Users\\\\yaren\\\\PycharmProjects\\\\ResNet50-ChestCancer-Detection\\\\Data\\\\train\"\n",
    "val_path = \"C:\\\\Users\\\\yaren\\\\PycharmProjects\\\\ResNet50-ChestCancer-Detection\\\\Data\\\\valid\"\n",
    "test_path = \"C:\\\\Users\\\\yaren\\\\PycharmProjects\\\\ResNet50-ChestCancer-Detection\\\\Data\\\\test\""
   ],
   "id": "fbdf48efabcb4b4c",
   "outputs": [],
   "execution_count": 2
  },
  {
   "metadata": {
    "ExecuteTime": {
     "end_time": "2025-05-14T07:53:21.164203Z",
     "start_time": "2025-05-14T07:53:21.138608Z"
    }
   },
   "cell_type": "code",
   "source": [
    "INPUT_SHAPE = (224, 224, 3)\n",
    "NUM_CLASSES = 4\n",
    "\n",
    "train_datagen = ImageDataGenerator(rotation_range=10,\n",
    "                                   width_shift_range=0.2,\n",
    "                                   height_shift_range= 0.2,\n",
    "                                   shear_range=0.2,\n",
    "                                   zoom_range=0.2,\n",
    "                                   horizontal_flip=True,\n",
    "                                   vertical_flip=False,\n",
    "                                   preprocessing_function=preprocess_input,\n",
    "                                   dtype=\"float32\")\n",
    "\n",
    "\n",
    "test_datagen = ImageDataGenerator(preprocessing_function=preprocess_input,\n",
    "                                 dtype=\"float32\")\n",
    "\n",
    "val_datagen = ImageDataGenerator(preprocessing_function=preprocess_input,\n",
    "                                 dtype=\"float32\")\n",
    "\n",
    "\n"
   ],
   "id": "907208fa80555172",
   "outputs": [],
   "execution_count": 3
  },
  {
   "metadata": {
    "ExecuteTime": {
     "end_time": "2025-05-14T07:53:23.978415Z",
     "start_time": "2025-05-14T07:53:23.819369Z"
    }
   },
   "cell_type": "code",
   "source": [
    "train_data = train_datagen.flow_from_directory(train_path,\n",
    "                                                 target_size=(224, 224),\n",
    "                                                 batch_size=32,\n",
    "                                                 class_mode=\"categorical\")\n",
    "test_data = test_datagen.flow_from_directory(test_path,\n",
    "                                            target_size=(224, 224),\n",
    "                                            batch_size=32,\n",
    "                                            class_mode=\"categorical\")\n",
    "val_data = val_datagen.flow_from_directory(val_path,\n",
    "                                          target_size=(224, 224),\n",
    "                                          batch_size=32,\n",
    "                                          class_mode=\"categorical\")"
   ],
   "id": "3f3029bbf0e194a0",
   "outputs": [
    {
     "name": "stdout",
     "output_type": "stream",
     "text": [
      "Found 613 images belonging to 4 classes.\n",
      "Found 315 images belonging to 4 classes.\n",
      "Found 72 images belonging to 4 classes.\n"
     ]
    }
   ],
   "execution_count": 4
  },
  {
   "metadata": {
    "ExecuteTime": {
     "end_time": "2025-04-16T13:49:12.570333Z",
     "start_time": "2025-04-16T13:49:12.398339Z"
    }
   },
   "cell_type": "code",
   "source": [
    "from tensorflow.keras.layers import GlobalAveragePooling2D, Dense\n",
    "from tensorflow.keras.models import Model\n",
    "from VGG16 import VGG16  # kendi özel model dosyan\n",
    "\n",
    "base_model = VGG16(\n",
    "    include_top=False,\n",
    "    weights='imagenet',\n",
    "    input_shape=(224, 224, 3)\n",
    ")\n",
    "\n",
    "# Katmanları dondur\n",
    "# Sadece son 2 blok açalım\n",
    "for layer in base_model.layers[:-8]:\n",
    "    layer.trainable = False\n",
    "for layer in base_model.layers[-8:]:\n",
    "    layer.trainable = True\n",
    "\n",
    "\n",
    "# Yeni katmanlar\n",
    "x = base_model.output\n",
    "x = GlobalAveragePooling2D()(x)\n",
    "x = Dense(4, activation='softmax')(x)\n",
    "\n",
    "# Yeni modeli oluştur\n",
    "model = Model(inputs=base_model.input, outputs=x)\n",
    "\n",
    "# Derleme\n",
    "model.compile(\n",
    "    optimizer=Adam(learning_rate=0.0001),\n",
    "    loss='categorical_crossentropy',\n",
    "    metrics=['accuracy']\n",
    ")\n"
   ],
   "id": "5c08a1fa38328fcf",
   "outputs": [],
   "execution_count": 13
  },
  {
   "metadata": {
    "ExecuteTime": {
     "end_time": "2025-04-16T15:05:23.791269Z",
     "start_time": "2025-04-16T13:52:54.905482Z"
    }
   },
   "cell_type": "code",
   "source": [
    "checkpoint = ModelCheckpoint(\"best_VGG16_model.keras\", monitor='val_accuracy', save_best_only=True, verbose=1)\n",
    "early_stop = EarlyStopping(monitor='val_accuracy', patience=10, restore_best_weights=True, verbose=1)\n",
    "reduce_lr = ReduceLROnPlateau(monitor='val_accuracy', patience=5, factor=0.5, verbose=1)\n",
    "\n",
    "history = model.fit(\n",
    "    train_data,\n",
    "    validation_data=val_data,\n",
    "    epochs=30,\n",
    "    callbacks=[checkpoint, early_stop, reduce_lr],\n",
    "    verbose=2\n",
    ")\n"
   ],
   "id": "47aa3de31bfd0c64",
   "outputs": [
    {
     "name": "stdout",
     "output_type": "stream",
     "text": [
      "Epoch 1/30\n",
      "\n",
      "Epoch 1: val_accuracy improved from -inf to 0.51389, saving model to best_VGG16_model.keras\n",
      "20/20 - 151s - 8s/step - accuracy: 0.4992 - loss: 1.0284 - val_accuracy: 0.5139 - val_loss: 0.9706 - learning_rate: 1.0000e-04\n",
      "Epoch 2/30\n",
      "\n",
      "Epoch 2: val_accuracy did not improve from 0.51389\n",
      "20/20 - 152s - 8s/step - accuracy: 0.5400 - loss: 0.9760 - val_accuracy: 0.4028 - val_loss: 1.3467 - learning_rate: 1.0000e-04\n",
      "Epoch 3/30\n",
      "\n",
      "Epoch 3: val_accuracy did not improve from 0.51389\n",
      "20/20 - 148s - 7s/step - accuracy: 0.5775 - loss: 0.9336 - val_accuracy: 0.4722 - val_loss: 0.9745 - learning_rate: 1.0000e-04\n",
      "Epoch 4/30\n",
      "\n",
      "Epoch 4: val_accuracy improved from 0.51389 to 0.54167, saving model to best_VGG16_model.keras\n",
      "20/20 - 147s - 7s/step - accuracy: 0.5595 - loss: 0.8517 - val_accuracy: 0.5417 - val_loss: 0.9652 - learning_rate: 1.0000e-04\n",
      "Epoch 5/30\n",
      "\n",
      "Epoch 5: val_accuracy improved from 0.54167 to 0.58333, saving model to best_VGG16_model.keras\n",
      "20/20 - 146s - 7s/step - accuracy: 0.6574 - loss: 0.7290 - val_accuracy: 0.5833 - val_loss: 0.9031 - learning_rate: 1.0000e-04\n",
      "Epoch 6/30\n",
      "\n",
      "Epoch 6: val_accuracy did not improve from 0.58333\n",
      "20/20 - 145s - 7s/step - accuracy: 0.7488 - loss: 0.6471 - val_accuracy: 0.5417 - val_loss: 1.0725 - learning_rate: 1.0000e-04\n",
      "Epoch 7/30\n",
      "\n",
      "Epoch 7: val_accuracy improved from 0.58333 to 0.62500, saving model to best_VGG16_model.keras\n",
      "20/20 - 144s - 7s/step - accuracy: 0.7830 - loss: 0.5578 - val_accuracy: 0.6250 - val_loss: 0.9878 - learning_rate: 1.0000e-04\n",
      "Epoch 8/30\n",
      "\n",
      "Epoch 8: val_accuracy improved from 0.62500 to 0.70833, saving model to best_VGG16_model.keras\n",
      "20/20 - 142s - 7s/step - accuracy: 0.8042 - loss: 0.4970 - val_accuracy: 0.7083 - val_loss: 0.7550 - learning_rate: 1.0000e-04\n",
      "Epoch 9/30\n",
      "\n",
      "Epoch 9: val_accuracy improved from 0.70833 to 0.80556, saving model to best_VGG16_model.keras\n",
      "20/20 - 142s - 7s/step - accuracy: 0.8287 - loss: 0.4715 - val_accuracy: 0.8056 - val_loss: 0.5884 - learning_rate: 1.0000e-04\n",
      "Epoch 10/30\n",
      "\n",
      "Epoch 10: val_accuracy improved from 0.80556 to 0.81944, saving model to best_VGG16_model.keras\n",
      "20/20 - 144s - 7s/step - accuracy: 0.8401 - loss: 0.4190 - val_accuracy: 0.8194 - val_loss: 0.5096 - learning_rate: 1.0000e-04\n",
      "Epoch 11/30\n",
      "\n",
      "Epoch 11: val_accuracy did not improve from 0.81944\n",
      "20/20 - 140s - 7s/step - accuracy: 0.8401 - loss: 0.4201 - val_accuracy: 0.6944 - val_loss: 0.6924 - learning_rate: 1.0000e-04\n",
      "Epoch 12/30\n",
      "\n",
      "Epoch 12: val_accuracy did not improve from 0.81944\n",
      "20/20 - 141s - 7s/step - accuracy: 0.8499 - loss: 0.3948 - val_accuracy: 0.7778 - val_loss: 0.6214 - learning_rate: 1.0000e-04\n",
      "Epoch 13/30\n",
      "\n",
      "Epoch 13: val_accuracy did not improve from 0.81944\n",
      "20/20 - 140s - 7s/step - accuracy: 0.9217 - loss: 0.2477 - val_accuracy: 0.7778 - val_loss: 0.8981 - learning_rate: 1.0000e-04\n",
      "Epoch 14/30\n",
      "\n",
      "Epoch 14: val_accuracy improved from 0.81944 to 0.84722, saving model to best_VGG16_model.keras\n",
      "20/20 - 141s - 7s/step - accuracy: 0.9152 - loss: 0.2454 - val_accuracy: 0.8472 - val_loss: 0.6972 - learning_rate: 1.0000e-04\n",
      "Epoch 15/30\n",
      "\n",
      "Epoch 15: val_accuracy did not improve from 0.84722\n",
      "20/20 - 140s - 7s/step - accuracy: 0.9119 - loss: 0.2225 - val_accuracy: 0.8333 - val_loss: 0.6814 - learning_rate: 1.0000e-04\n",
      "Epoch 16/30\n",
      "\n",
      "Epoch 16: val_accuracy did not improve from 0.84722\n",
      "20/20 - 141s - 7s/step - accuracy: 0.9005 - loss: 0.2516 - val_accuracy: 0.6806 - val_loss: 1.0804 - learning_rate: 1.0000e-04\n",
      "Epoch 17/30\n",
      "\n",
      "Epoch 17: val_accuracy did not improve from 0.84722\n",
      "20/20 - 141s - 7s/step - accuracy: 0.9543 - loss: 0.1627 - val_accuracy: 0.7639 - val_loss: 0.9814 - learning_rate: 1.0000e-04\n",
      "Epoch 18/30\n",
      "\n",
      "Epoch 18: val_accuracy did not improve from 0.84722\n",
      "20/20 - 137s - 7s/step - accuracy: 0.9560 - loss: 0.1422 - val_accuracy: 0.8333 - val_loss: 0.6996 - learning_rate: 1.0000e-04\n",
      "Epoch 19/30\n",
      "\n",
      "Epoch 19: val_accuracy improved from 0.84722 to 0.86111, saving model to best_VGG16_model.keras\n",
      "20/20 - 138s - 7s/step - accuracy: 0.9413 - loss: 0.1518 - val_accuracy: 0.8611 - val_loss: 0.6245 - learning_rate: 1.0000e-04\n",
      "Epoch 20/30\n",
      "\n",
      "Epoch 20: val_accuracy did not improve from 0.86111\n",
      "20/20 - 137s - 7s/step - accuracy: 0.9869 - loss: 0.0619 - val_accuracy: 0.8611 - val_loss: 0.6097 - learning_rate: 1.0000e-04\n",
      "Epoch 21/30\n",
      "\n",
      "Epoch 21: val_accuracy improved from 0.86111 to 0.87500, saving model to best_VGG16_model.keras\n",
      "20/20 - 138s - 7s/step - accuracy: 0.9886 - loss: 0.0351 - val_accuracy: 0.8750 - val_loss: 0.6502 - learning_rate: 1.0000e-04\n",
      "Epoch 22/30\n",
      "\n",
      "Epoch 22: val_accuracy did not improve from 0.87500\n",
      "20/20 - 151s - 8s/step - accuracy: 0.9511 - loss: 0.1266 - val_accuracy: 0.8333 - val_loss: 0.6865 - learning_rate: 1.0000e-04\n",
      "Epoch 23/30\n",
      "\n",
      "Epoch 23: val_accuracy did not improve from 0.87500\n",
      "20/20 - 164s - 8s/step - accuracy: 0.9657 - loss: 0.0914 - val_accuracy: 0.8750 - val_loss: 0.6743 - learning_rate: 1.0000e-04\n",
      "Epoch 24/30\n",
      "\n",
      "Epoch 24: val_accuracy improved from 0.87500 to 0.88889, saving model to best_VGG16_model.keras\n",
      "20/20 - 145s - 7s/step - accuracy: 0.9788 - loss: 0.0600 - val_accuracy: 0.8889 - val_loss: 0.3357 - learning_rate: 1.0000e-04\n",
      "Epoch 25/30\n",
      "\n",
      "Epoch 25: val_accuracy did not improve from 0.88889\n",
      "20/20 - 184s - 9s/step - accuracy: 0.9902 - loss: 0.0298 - val_accuracy: 0.8889 - val_loss: 0.6195 - learning_rate: 1.0000e-04\n",
      "Epoch 26/30\n",
      "\n",
      "Epoch 26: val_accuracy did not improve from 0.88889\n",
      "20/20 - 155s - 8s/step - accuracy: 0.9902 - loss: 0.0246 - val_accuracy: 0.8889 - val_loss: 0.5209 - learning_rate: 1.0000e-04\n",
      "Epoch 27/30\n",
      "\n",
      "Epoch 27: val_accuracy did not improve from 0.88889\n",
      "20/20 - 137s - 7s/step - accuracy: 0.9135 - loss: 0.2444 - val_accuracy: 0.8056 - val_loss: 0.5981 - learning_rate: 1.0000e-04\n",
      "Epoch 28/30\n",
      "\n",
      "Epoch 28: val_accuracy did not improve from 0.88889\n",
      "20/20 - 139s - 7s/step - accuracy: 0.9152 - loss: 0.2060 - val_accuracy: 0.8472 - val_loss: 0.5349 - learning_rate: 1.0000e-04\n",
      "Epoch 29/30\n",
      "\n",
      "Epoch 29: val_accuracy did not improve from 0.88889\n",
      "\n",
      "Epoch 29: ReduceLROnPlateau reducing learning rate to 4.999999873689376e-05.\n",
      "20/20 - 142s - 7s/step - accuracy: 0.9788 - loss: 0.0597 - val_accuracy: 0.8333 - val_loss: 0.7099 - learning_rate: 1.0000e-04\n",
      "Epoch 30/30\n",
      "\n",
      "Epoch 30: val_accuracy did not improve from 0.88889\n",
      "20/20 - 137s - 7s/step - accuracy: 0.9886 - loss: 0.0325 - val_accuracy: 0.8611 - val_loss: 0.9038 - learning_rate: 5.0000e-05\n",
      "Restoring model weights from the end of the best epoch: 24.\n"
     ]
    }
   ],
   "execution_count": 15
  },
  {
   "metadata": {
    "ExecuteTime": {
     "end_time": "2025-05-14T07:53:48.132369Z",
     "start_time": "2025-05-14T07:53:39.692494Z"
    }
   },
   "cell_type": "code",
   "source": [
    "from tensorflow.keras.models import load_model\n",
    "\n",
    "saved_model = load_model(\"best_VGG16_model.keras\")\n",
    "score = saved_model.evaluate(test_data, verbose=1)\n",
    "print(\"Test loss:\", score[0])\n",
    "print(\"Test accuracy:\", score[1])"
   ],
   "id": "ccde2c4d895fa5b4",
   "outputs": [
    {
     "name": "stderr",
     "output_type": "stream",
     "text": [
      "C:\\Users\\yaren\\PycharmProjects\\ResNet50-ChestCancer-Detection\\.venv\\lib\\site-packages\\keras\\src\\trainers\\data_adapters\\py_dataset_adapter.py:121: UserWarning: Your `PyDataset` class should call `super().__init__(**kwargs)` in its constructor. `**kwargs` can include `workers`, `use_multiprocessing`, `max_queue_size`. Do not pass these arguments to `fit()`, as they will be ignored.\n",
      "  self._warn_if_super_not_called()\n"
     ]
    },
    {
     "name": "stdout",
     "output_type": "stream",
     "text": [
      "\u001B[1m10/10\u001B[0m \u001B[32m━━━━━━━━━━━━━━━━━━━━\u001B[0m\u001B[37m\u001B[0m \u001B[1m6s\u001B[0m 422ms/step - accuracy: 0.6906 - loss: 0.7881\n",
      "Test loss: 0.7788917422294617\n",
      "Test accuracy: 0.720634937286377\n"
     ]
    }
   ],
   "execution_count": 5
  },
  {
   "metadata": {
    "ExecuteTime": {
     "end_time": "2025-05-13T14:02:59.900447Z",
     "start_time": "2025-05-13T14:02:58.629288Z"
    }
   },
   "cell_type": "code",
   "source": [
    "val_loss, val_acc = saved_model.evaluate(val_data, verbose=1)\n",
    "print(\"\\n📊 VALIDATION SET:\")\n",
    "print(f\"✅ Accuracy: {val_acc:.4f}\")\n",
    "print(f\"❌ Loss:     {val_loss:.4f}\")"
   ],
   "id": "1e9bfb373d9d9ae",
   "outputs": [
    {
     "name": "stdout",
     "output_type": "stream",
     "text": [
      "\u001B[1m3/3\u001B[0m \u001B[32m━━━━━━━━━━━━━━━━━━━━\u001B[0m\u001B[37m\u001B[0m \u001B[1m1s\u001B[0m 268ms/step - accuracy: 0.7795 - loss: 2.3120\n",
      "\n",
      "📊 VALIDATION SET:\n",
      "✅ Accuracy: 0.7778\n",
      "❌ Loss:     2.0657\n"
     ]
    }
   ],
   "execution_count": 9
  },
  {
   "metadata": {
    "ExecuteTime": {
     "end_time": "2025-05-13T14:19:45.185229Z",
     "start_time": "2025-05-13T14:19:34.388601Z"
    }
   },
   "cell_type": "code",
   "source": [
    "train_loss, train_acc = saved_model.evaluate(train_data, verbose=1)\n",
    "print(\"\\n📊 TRAIN SET:\")\n",
    "print(f\"✅ Accuracy: {train_acc:.4f}\")\n",
    "print(f\"❌ Loss :     {train_loss:.4f}\")"
   ],
   "id": "6e52ed02328b1f52",
   "outputs": [
    {
     "name": "stdout",
     "output_type": "stream",
     "text": [
      "\u001B[1m20/20\u001B[0m \u001B[32m━━━━━━━━━━━━━━━━━━━━\u001B[0m\u001B[37m\u001B[0m \u001B[1m10s\u001B[0m 504ms/step - accuracy: 0.8894 - loss: 0.5622\n",
      "\n",
      "📊 TRAIN SET:\n",
      "✅ Accuracy: 0.9021\n",
      "❌ Loss:     0.5739\n"
     ]
    }
   ],
   "execution_count": 15
  },
  {
   "metadata": {
    "ExecuteTime": {
     "end_time": "2025-05-14T07:54:03.291201Z",
     "start_time": "2025-05-14T07:53:54.941834Z"
    }
   },
   "cell_type": "code",
   "source": [
    "import numpy as np\n",
    "import matplotlib.pyplot as plt\n",
    "from sklearn.metrics import confusion_matrix, ConfusionMatrixDisplay, classification_report\n",
    "\n",
    "# 🔄 Sınıf adlarını al\n",
    "class_names = list(test_data.class_indices.keys())\n",
    "\n",
    "# 🔍 Gerçek etiketleri ve tahminleri topla\n",
    "y_true = []\n",
    "y_pred = []\n",
    "\n",
    "# ⚠️ test_data.shuffle = False olmalı doğru sıralama için\n",
    "test_data.reset()  # Sıfırlanmazsa karışık olabilir\n",
    "\n",
    "for i in range(len(test_data)):\n",
    "    x_batch, y_batch = test_data[i]\n",
    "    y_true.extend(np.argmax(y_batch, axis=1))\n",
    "    preds = saved_model.predict(x_batch)\n",
    "    y_pred.extend(np.argmax(preds, axis=1))\n",
    "\n",
    "    # 🛑 Son batch incomplete olabilir\n",
    "    if (i + 1) * test_data.batch_size >= test_data.samples:\n",
    "        break\n",
    "\n",
    "# 🧮 Confusion Matrix\n",
    "cm = confusion_matrix(y_true, y_pred)\n",
    "disp = ConfusionMatrixDisplay(confusion_matrix=cm, display_labels=class_names)\n",
    "\n",
    "# 🎨 Görselleştir\n",
    "plt.figure(figsize=(8, 6))\n",
    "disp.plot(cmap=plt.cm.Blues, values_format='d')\n",
    "plt.title(\"Confusion Matrix (Test Set)\")\n",
    "plt.xlabel(\"Predicted Label\")\n",
    "plt.ylabel(\"True Label\")\n",
    "plt.show()\n",
    "\n",
    "# 🧾 Ekstra: classification report\n",
    "print(\"\\n📄 Classification Report:\")\n",
    "print(classification_report(y_true, y_pred, target_names=class_names))"
   ],
   "id": "3767cbe455020603",
   "outputs": [
    {
     "name": "stdout",
     "output_type": "stream",
     "text": [
      "\u001B[1m1/1\u001B[0m \u001B[32m━━━━━━━━━━━━━━━━━━━━\u001B[0m\u001B[37m\u001B[0m \u001B[1m2s\u001B[0m 2s/step\n",
      "\u001B[1m1/1\u001B[0m \u001B[32m━━━━━━━━━━━━━━━━━━━━\u001B[0m\u001B[37m\u001B[0m \u001B[1m0s\u001B[0m 458ms/step\n",
      "\u001B[1m1/1\u001B[0m \u001B[32m━━━━━━━━━━━━━━━━━━━━\u001B[0m\u001B[37m\u001B[0m \u001B[1m1s\u001B[0m 516ms/step\n",
      "\u001B[1m1/1\u001B[0m \u001B[32m━━━━━━━━━━━━━━━━━━━━\u001B[0m\u001B[37m\u001B[0m \u001B[1m0s\u001B[0m 419ms/step\n",
      "\u001B[1m1/1\u001B[0m \u001B[32m━━━━━━━━━━━━━━━━━━━━\u001B[0m\u001B[37m\u001B[0m \u001B[1m0s\u001B[0m 448ms/step\n",
      "\u001B[1m1/1\u001B[0m \u001B[32m━━━━━━━━━━━━━━━━━━━━\u001B[0m\u001B[37m\u001B[0m \u001B[1m0s\u001B[0m 437ms/step\n",
      "\u001B[1m1/1\u001B[0m \u001B[32m━━━━━━━━━━━━━━━━━━━━\u001B[0m\u001B[37m\u001B[0m \u001B[1m0s\u001B[0m 417ms/step\n",
      "\u001B[1m1/1\u001B[0m \u001B[32m━━━━━━━━━━━━━━━━━━━━\u001B[0m\u001B[37m\u001B[0m \u001B[1m0s\u001B[0m 434ms/step\n",
      "\u001B[1m1/1\u001B[0m \u001B[32m━━━━━━━━━━━━━━━━━━━━\u001B[0m\u001B[37m\u001B[0m \u001B[1m0s\u001B[0m 434ms/step\n",
      "\u001B[1m1/1\u001B[0m \u001B[32m━━━━━━━━━━━━━━━━━━━━\u001B[0m\u001B[37m\u001B[0m \u001B[1m1s\u001B[0m 1s/step\n"
     ]
    },
    {
     "data": {
      "text/plain": [
       "<Figure size 800x600 with 0 Axes>"
      ]
     },
     "metadata": {},
     "output_type": "display_data"
    },
    {
     "data": {
      "text/plain": [
       "<Figure size 640x480 with 2 Axes>"
      ],
      "image/png": "[encoded data removed]"
     },
     "metadata": {},
     "output_type": "display_data"
    },
    {
     "name": "stdout",
     "output_type": "stream",
     "text": [
      "\n",
      "📄 Classification Report:\n",
      "                         precision    recall  f1-score   support\n",
      "\n",
      "         adenocarcinoma       0.84      0.61      0.71       120\n",
      "   large.cell.carcinoma       0.42      0.96      0.58        51\n",
      "                 normal       1.00      0.98      0.99        54\n",
      "squamous.cell.carcinoma       0.91      0.58      0.71        90\n",
      "\n",
      "               accuracy                           0.72       315\n",
      "              macro avg       0.79      0.78      0.75       315\n",
      "           weighted avg       0.82      0.72      0.73       315\n",
      "\n"
     ]
    }
   ],
   "execution_count": 6
  }
 ],
 "metadata": {
  "kernelspec": {
   "display_name": "Python 3",
   "language": "python",
   "name": "python3"
  },
  "language_info": {
   "codemirror_mode": {
    "name": "ipython",
    "version": 2
   },
   "file_extension": ".py",
   "mimetype": "text/x-python",
   "name": "python",
   "nbconvert_exporter": "python",
   "pygments_lexer": "ipython2",
   "version": "2.7.6"
  }
 },
 "nbformat": 4,
 "nbformat_minor": 5
}
